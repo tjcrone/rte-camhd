{
 "cells": [
  {
   "cell_type": "code",
   "execution_count": 1,
   "metadata": {},
   "outputs": [],
   "source": [
    "import PIL\n",
    "from PIL import Image\n",
    "import imagehash\n",
    "\n",
    "import pycamhd.pycamhd as camhd\n",
    "import numpy as np\n",
    "import matplotlib.pyplot as plt\n",
    "import pandas as pd       \n",
    "\n",
    "def diff_letters(a,b):\n",
    "    if (len(a) != len(b)):\n",
    "        return -1\n",
    "    else:\n",
    "        return sum ( a[i] != b[i] for i in range(len(a)) )\n",
    "\n",
    "dbcamhd = (pd.read_json('dbcamhd.json', orient=\"records\", lines=True)).set_index(\"filename\", drop = False)\n",
    "dbcamhd.tail()  \n",
    "\n",
    "fileIDs = []\n",
    "avgHash = []\n",
    "dHash = []\n",
    "pHash = []\n",
    "wHash = []"
   ]
  },
  {
   "cell_type": "code",
   "execution_count": 12,
   "metadata": {},
   "outputs": [],
   "source": [
    "from dask import delayed, compute\n",
    "\n",
    "@delayed\n",
    "def delayed_get_frame(filename, frame_number):\n",
    "    frame = camhd.get_frame(filename, frame_number)\n",
    "    return Image.fromarray(frame)\n",
    "\n",
    "@delayed\n",
    "def delayed_average_hash(image):\n",
    "    return imagehash.average_hash(image)\n",
    "\n",
    "@delayed\n",
    "def delayed_phash(image):\n",
    "    return imagehash.phash(image)\n",
    "\n",
    "@delayed\n",
    "def delayed_dhash(image):\n",
    "    return imagehash.dhash(image)\n",
    "\n",
    "@delayed\n",
    "def delayed_whash(image):\n",
    "    return imagehash.whash(image)"
   ]
  },
  {
   "cell_type": "code",
   "execution_count": 13,
   "metadata": {},
   "outputs": [
    {
     "data": {
      "text/plain": [
       "4622"
      ]
     },
     "execution_count": 13,
     "metadata": {},
     "output_type": "execute_result"
    }
   ],
   "source": [
    "filenames = list(dbcamhd.filename[(dbcamhd.frame_count > 2000) & (dbcamhd.frame_count < 30000) & (dbcamhd.deployment == 3)])\n",
    "len(filenames)"
   ]
  },
  {
   "cell_type": "code",
   "execution_count": 18,
   "metadata": {},
   "outputs": [],
   "source": [
    "for filename in filenames[4:5]:\n",
    "    frameTotal = dbcamhd.frame_count[filename]\n",
    "    #print(frameTotal)\n",
    "    timestamp = dbcamhd.timestamp[filename]\n",
    "    frames =  range(0,frameTotal,10)\n",
    "    #print(frames)\n",
    "    \n",
    "    for i in frames:        \n",
    "        im = delayed_get_frame(filename, i)\n",
    "        avg = delayed_average_hash(im)\n",
    "        p = delayed_phash(im)\n",
    "        d = delayed_dhash(im)\n",
    "        w = delayed_whash(im)\n",
    "        \n",
    "        avgFlat = avg.hash.flatten()\n",
    "        pFlat = p.hash.flatten()\n",
    "        dFlat = d.hash.flatten()\n",
    "        wFlat = w.hash.flatten()\n",
    "        \n",
    "        avgHash.append(avgFlat)\n",
    "        pHash.append(pFlat)\n",
    "        dHash.append(dFlat)\n",
    "        wHash.append(wFlat)          "
   ]
  },
  {
   "cell_type": "code",
   "execution_count": 19,
   "metadata": {},
   "outputs": [],
   "source": [
    "from dask_kubernetes import KubeCluster\n",
    "from dask.distributed import Client\n",
    "\n",
    "cluster = KubeCluster();\n",
    "cluster.scale(30);"
   ]
  },
  {
   "cell_type": "code",
   "execution_count": 21,
   "metadata": {},
   "outputs": [
    {
     "data": {
      "application/vnd.jupyter.widget-view+json": {
       "model_id": "099d6965e94b48d7aaf5fd0ced7ce8f1",
       "version_major": 2,
       "version_minor": 0
      },
      "text/plain": [
       "VBox(children=(HTML(value='<b>Dashboard:</b> <a href=\"/user/al3623/proxy/8787/status\" target=\"_blank\">/user/al…"
      ]
     },
     "metadata": {},
     "output_type": "display_data"
    }
   ],
   "source": [
    "cluster"
   ]
  },
  {
   "cell_type": "code",
   "execution_count": 22,
   "metadata": {},
   "outputs": [
    {
     "data": {
      "text/html": [
       "<table style=\"border: 2px solid white;\">\n",
       "<tr>\n",
       "<td style=\"vertical-align: top; border: 0px solid white\">\n",
       "<h3>Client</h3>\n",
       "<ul>\n",
       "  <li><b>Scheduler: </b>tcp://10.244.2.86:37349\n",
       "  <li><b>Dashboard: </b><a href='/user/al3623/proxy/8787/status' target='_blank'>/user/al3623/proxy/8787/status</a>\n",
       "</ul>\n",
       "</td>\n",
       "<td style=\"vertical-align: top; border: 0px solid white\">\n",
       "<h3>Cluster</h3>\n",
       "<ul>\n",
       "  <li><b>Workers: </b>30</li>\n",
       "  <li><b>Cores: </b>60</li>\n",
       "  <li><b>Memory: </b>120.00 GB</li>\n",
       "</ul>\n",
       "</td>\n",
       "</tr>\n",
       "</table>"
      ],
      "text/plain": [
       "<Client: scheduler='tcp://10.244.2.86:37349' processes=30 cores=60>"
      ]
     },
     "execution_count": 22,
     "metadata": {},
     "output_type": "execute_result"
    }
   ],
   "source": [
    "client = Client(cluster)\n",
    "client"
   ]
  },
  {
   "cell_type": "code",
   "execution_count": 23,
   "metadata": {},
   "outputs": [
    {
     "name": "stdout",
     "output_type": "stream",
     "text": [
      "CPU times: user 1min 49s, sys: 11.3 s, total: 2min\n",
      "Wall time: 3min 30s\n"
     ]
    }
   ],
   "source": [
    "%%time\n",
    "wHashList = compute(*wHash)"
   ]
  },
  {
   "cell_type": "code",
   "execution_count": 24,
   "metadata": {},
   "outputs": [
    {
     "name": "stdout",
     "output_type": "stream",
     "text": [
      "CPU times: user 1min 43s, sys: 10.9 s, total: 1min 54s\n",
      "Wall time: 3min 26s\n"
     ]
    }
   ],
   "source": [
    "%%time\n",
    "pHashList = compute(*pHash)"
   ]
  },
  {
   "cell_type": "code",
   "execution_count": 25,
   "metadata": {},
   "outputs": [
    {
     "name": "stdout",
     "output_type": "stream",
     "text": [
      "CPU times: user 1min 44s, sys: 10.2 s, total: 1min 54s\n",
      "Wall time: 3min 23s\n"
     ]
    }
   ],
   "source": [
    "%%time\n",
    "dHashList = compute(*dHash)"
   ]
  },
  {
   "cell_type": "code",
   "execution_count": null,
   "metadata": {},
   "outputs": [],
   "source": [
    "%%time\n",
    "avgHashList = compute(*avgHash)"
   ]
  },
  {
   "cell_type": "code",
   "execution_count": 27,
   "metadata": {},
   "outputs": [
    {
     "data": {
      "text/plain": [
       "(64, 5038)"
      ]
     },
     "execution_count": 27,
     "metadata": {},
     "output_type": "execute_result"
    }
   ],
   "source": [
    "npwHash = np.array(wHashList).T\n",
    "npwHash.shape"
   ]
  },
  {
   "cell_type": "code",
   "execution_count": 28,
   "metadata": {},
   "outputs": [
    {
     "data": {
      "text/plain": [
       "(64, 5038)"
      ]
     },
     "execution_count": 28,
     "metadata": {},
     "output_type": "execute_result"
    }
   ],
   "source": [
    "nppHash = np.array(pHashList).T\n",
    "nppHash.shape"
   ]
  },
  {
   "cell_type": "code",
   "execution_count": 29,
   "metadata": {},
   "outputs": [
    {
     "data": {
      "text/plain": [
       "(64, 5038)"
      ]
     },
     "execution_count": 29,
     "metadata": {},
     "output_type": "execute_result"
    }
   ],
   "source": [
    "npdHash = np.array(dHashList).T\n",
    "npdHash.shape"
   ]
  },
  {
   "cell_type": "code",
   "execution_count": null,
   "metadata": {},
   "outputs": [],
   "source": [
    "npaHash = np.array(avgHashList).T\n",
    "print(npaHash.shape)"
   ]
  },
  {
   "cell_type": "code",
   "execution_count": null,
   "metadata": {},
   "outputs": [],
   "source": [
    "plt.xlabel('Frame Number')\n",
    "plt.ylabel('Wavelet Hash Bit')\n",
    "plt.title(str(timestamp) + \" Video Wavelet Hash\")\n",
    "plt.tight_layout()\n",
    "plt.imshow(npwHash,cmap=\"Greys\",aspect=\"auto\")\n",
    "plt.savefig(\"w_bin_im_\" + str(timestamp) + \".png\", dpi=300)"
   ]
  },
  {
   "cell_type": "code",
   "execution_count": 42,
   "metadata": {},
   "outputs": [
    {
     "data": {
      "image/png": "[encoded data removed]",
      "text/plain": [
       "<Figure size 432x288 with 1 Axes>"
      ]
     },
     "metadata": {},
     "output_type": "display_data"
    }
   ],
   "source": [
    "plt.xlabel('Frame Number')\n",
    "plt.ylabel('Average Hash Bit')\n",
    "plt.title(str(timestamp) + \" Video Average Hash\")\n",
    "plt.tight_layout()\n",
    "plt.imshow(npaHash,cmap=\"Greys\",aspect=\"auto\")\n",
    "plt.savefig(\"avg_bin_im_\" + str(timestamp) + \".png\", dpi=300)"
   ]
  },
  {
   "cell_type": "code",
   "execution_count": 43,
   "metadata": {},
   "outputs": [
    {
     "data": {
      "image/png": "[encoded data removed]",
      "text/plain": [
       "<Figure size 432x288 with 1 Axes>"
      ]
     },
     "metadata": {},
     "output_type": "display_data"
    }
   ],
   "source": [
    "plt.xlabel('Frame Number')\n",
    "plt.ylabel('Perception Hash Bit')\n",
    "plt.title(str(timestamp) + \" Video Perception Hash\")\n",
    "plt.tight_layout()\n",
    "plt.imshow(nppHash,cmap=\"Greys\",aspect=\"auto\")\n",
    "plt.savefig(\"p_bin_im_\" + str(timestamp) + \".png\", dpi=300)"
   ]
  },
  {
   "cell_type": "code",
   "execution_count": 44,
   "metadata": {},
   "outputs": [
    {
     "data": {
      "image/png": "[encoded data removed]",
      "text/plain": [
       "<Figure size 432x288 with 1 Axes>"
      ]
     },
     "metadata": {},
     "output_type": "display_data"
    }
   ],
   "source": [
    "plt.xlabel('Frame Number')\n",
    "plt.ylabel('Difference Hash Bit')\n",
    "plt.title(str(timestamp) + \" Video Difference Hash\")\n",
    "plt.tight_layout()\n",
    "plt.imshow(npdHash,cmap=\"Greys\",aspect=\"auto\")\n",
    "plt.savefig(\"d_bin_im_\" + str(timestamp) + \".png\", dpi=300)"
   ]
  },
  {
   "cell_type": "code",
   "execution_count": null,
   "metadata": {},
   "outputs": [],
   "source": [
    "plt.rc('font', size=12)\n",
    "fig, ax = plt.subplots();\n",
    "fig.set_size_inches(14, 6);\n",
    "fig.frameon = False\n",
    "hb = ax.hexbin(frames, wHashList[1135:], vmin=0, vmax=1, bins='log', linewidths=0.25,\n",
    "  gridsize=(225,4500), mincnt=1, cmap=plt.cm.BuPu)\n",
    "fig.colorbar(hb)\n",
    "ax.set_ylim([0, 8000])\n",
    "ax.set_xlim([frames[0],frames[-1]])\n",
    "ax.yaxis.grid(True)\n",
    "ax.xaxis.grid(True)"
   ]
  },
  {
   "cell_type": "code",
   "execution_count": null,
   "metadata": {},
   "outputs": [],
   "source": []
  }
 ],
 "metadata": {
  "kernelspec": {
   "display_name": "Python [conda root]",
   "language": "python",
   "name": "conda-root-py"
  },
  "language_info": {
   "codemirror_mode": {
    "name": "ipython",
    "version": 3
   },
   "file_extension": ".py",
   "mimetype": "text/x-python",
   "name": "python",
   "nbconvert_exporter": "python",
   "pygments_lexer": "ipython3",
   "version": "3.6.4"
  }
 },
 "nbformat": 4,
 "nbformat_minor": 2
}
