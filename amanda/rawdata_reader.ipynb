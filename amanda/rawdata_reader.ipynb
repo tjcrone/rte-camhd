{
 "cells": [
  {
   "cell_type": "code",
   "execution_count": 1,
   "metadata": {},
   "outputs": [],
   "source": [
    "%matplotlib inline\n",
    "import pycamhd.pycamhd as camhd\n",
    "import numpy as np\n",
    "import matplotlib.pyplot as plt\n",
    "import xarray as xar\n",
    "import urllib as url\n",
    "\n",
    "logLink = \"https://rawdata.oceanobservatories.org/files/RS03ASHS/PN03B/06-CAMHDA301/2017/03/12/CAMHDA301-20170312T000000.log\"\n",
    "movLink = \"https://rawdata.oceanobservatories.org/files/RS03ASHS/PN03B/06-CAMHDA301/2017/03/12/CAMHDA301-20170312T181500.mov\""
   ]
  },
  {
   "cell_type": "code",
   "execution_count": 2,
   "metadata": {},
   "outputs": [],
   "source": [
    "movAtom = camhd.get_moov_atom(movLink)\n",
    "frames = camhd.get_frame_count(movLink, movAtom)\n",
    "FPS = 30\n",
    "#print(\"Total Frames: \" + str(frames))             26983\n",
    "\n",
    "logFile = url.request.urlopen(logLink)\n",
    "logList = logFile.readlines()\n",
    "\n",
    "sceneTimes = []\n",
    "inMotion = False\n",
    "timeSubstring = \"\"\n",
    "startTime = 0\n",
    "endTime = 0\n",
    "#print(endTime - startTime)                        855\n",
    "                     \n",
    "index = 0;\n",
    "\n",
    "while index < len(logList):\n",
    "    line = logList[index]\n",
    "    index+=1\n",
    "    if (line[0] == ord('>')):\n",
    "        line = line[1:]\n",
    "    \n",
    "    if \"STOPPED:\" in str(line):\n",
    "        if inMotion:\n",
    "            inMotion = False\n",
    "        \n",
    "    if \"time\" in str(line) and not inMotion:\n",
    "        fullLine = str(line)\n",
    "        timeSubstring = fullLine[fullLine.index(\"time\"):]\n",
    "        if \":\" not in timeSubstring:\n",
    "            break;\n",
    "        timeSubstring = timeSubstring[timeSubstring.index(\":\") + 2:]\n",
    "        if \"}\" in timeSubstring:\n",
    "            timeSubstring = timeSubstring[0:timeSubstring.index(\"}\")]\n",
    "        if \",\" in timeSubstring:\n",
    "            timeSubstring = timeSubstring[:timeSubstring.index(\",\")]\n",
    "        timeSubstring = timeSubstring[:10]\n",
    "        if int(timeSubstring) not in sceneTimes:\n",
    "            sceneTimes.append(int(timeSubstring))\n",
    "            endTime = int(timeSubstring)\n",
    "    \n",
    "    if \"INMOTION:\" in str(line):\n",
    "        inMotion = True\n",
    "        \n",
    "    if \"STARTED:\" in str(line):\n",
    "        startTime = int(timeSubstring)\n",
    "        \n",
    "index+=1\n",
    "while index < len(logList):\n",
    "    line = logList[index]\n",
    "    index+=1\n",
    "    if (line[0] == ord('>')):\n",
    "        line = line[1:]\n",
    "    \n",
    "    if \"STOPPED:\" in str(line):\n",
    "        if inMotion:\n",
    "            inMotion = False\n",
    "        \n",
    "    if \"time\" in str(line) and not inMotion:\n",
    "        fullLine = str(line)\n",
    "        timeSubstring = fullLine[fullLine.index(\"time\"):]\n",
    "        if \":\" not in timeSubstring:\n",
    "            break;\n",
    "        timeSubstring = timeSubstring[timeSubstring.index(\":\") + 2:]\n",
    "        if \"}\" in timeSubstring:\n",
    "            timeSubstring = timeSubstring[0:timeSubstring.index(\"}\")]\n",
    "        if \",\" in timeSubstring:\n",
    "            timeSubstring = timeSubstring[:timeSubstring.index(\",\")]\n",
    "        timeSubstring = timeSubstring[:10]\n",
    "        if int(timeSubstring) not in sceneTimes:\n",
    "            sceneTimes.append(int(timeSubstring))   \n",
    "            endTime = int(timeSubstring)\n",
    "    if \"INMOTION:\" in str(line):\n",
    "        inMotion = True\n",
    "\n",
    "#print(sceneTimes)\n",
    "#print(\"start time:\\t\",startTime)\n",
    "#print(\"end time:\\t\",endTime)"
   ]
  },
  {
   "cell_type": "code",
   "execution_count": 3,
   "metadata": {},
   "outputs": [
    {
     "name": "stdout",
     "output_type": "stream",
     "text": [
      "[0, 510, 750, 1140, 1440, 2190, 2640, 2880, 4110, 4140, 4590, 4620, 5040, 5430, 5790, 7410, 7440, 7860, 8010, 8430, 8820, 9180, 10650, 10680, 11100, 11250, 11580, 11970, 12360, 13770, 13800, 14130, 14340, 14640, 15030, 15390, 16770, 16800, 17100, 17280, 17640, 18030, 19560, 19590, 19770, 20250, 20640, 21810, 21840, 22320, 22470, 22830, 23160, 24450, 24600, 24960, 25170, 25500, 25650]\n"
     ]
    }
   ],
   "source": [
    "sceneShift = []\n",
    "sceneFrames = []\n",
    "for time in sceneTimes:\n",
    "    sceneShift.append(time-startTime)\n",
    "    sceneFrames.append(30*(time-startTime))\n",
    "print(sceneFrames)"
   ]
  },
  {
   "cell_type": "code",
   "execution_count": 4,
   "metadata": {},
   "outputs": [
    {
     "data": {
      "image/png": "[encoded data removed]",
      "text/plain": [
       "<Figure size 432x288 with 1 Axes>"
      ]
     },
     "metadata": {},
     "output_type": "display_data"
    }
   ],
   "source": [
    "plt.figure()\n",
    "plt.hlines(1,1,endTime-startTime)\n",
    "plt.eventplot(sceneShift,orientation='horizontal')\n",
    "plt.axis('off')\n",
    "plt.show()"
   ]
  },
  {
   "cell_type": "code",
   "execution_count": 5,
   "metadata": {},
   "outputs": [],
   "source": [
    "def show_image(filename, frame_number):\n",
    "    plt.rc('figure', figsize=(10, 5))\n",
    "    plt.rcParams.update({'font.size': 8})\n",
    "    frame = camhd.get_frame(filename, frame_number, 'rgb24')\n",
    "    fig, ax = plt.subplots()\n",
    "    im1 = ax.imshow(frame)\n",
    "    plt.yticks(np.arange(0,1081,270))\n",
    "    plt.xticks(np.arange(0,1921,480))\n",
    "    plt.title(movLink)"
   ]
  },
  {
   "cell_type": "code",
   "execution_count": 6,
   "metadata": {},
   "outputs": [
    {
     "data": {
      "application/vnd.jupyter.widget-view+json": {
       "model_id": "346e7aa76f4e4865bb8133fb9d8450b8",
       "version_major": 2,
       "version_minor": 0
      },
      "text/plain": [
       "interactive(children=(Text(value='https://rawdata.oceanobservatories.org/files/RS03ASHS/PN03B/06-CAMHDA301/201…"
      ]
     },
     "metadata": {},
     "output_type": "display_data"
    }
   ],
   "source": [
    "from ipywidgets import interact\n",
    "from ipywidgets import IntSlider\n",
    "#file_slider = IntSlider(min=0, max=len(filenames)-1, step=1, value=0, continuous_update=False)\n",
    "frame_slider = IntSlider(min=0, max=camhd.get_frame_count(movLink), step=10, value=0, continuous_update=False)\n",
    "\n",
    "def update_range(*args):\n",
    "    frame_slider.max = camhd.get_frame_count(movLink)-1\n",
    "    if frame_slider.value > frame_slider.max:\n",
    "        frame_slider.value = frame_slider.max\n",
    "\n",
    "interact(show_image, filename=movLink,frame_number=frame_slider);"
   ]
  },
  {
   "cell_type": "code",
   "execution_count": 18,
   "metadata": {},
   "outputs": [
    {
     "data": {
      "image/png": "[encoded data removed]",
      "text/plain": [
       "<Figure size 720x360 with 1 Axes>"
      ]
     },
     "metadata": {},
     "output_type": "display_data"
    }
   ],
   "source": [
    "frame = camhd.get_frame(movLink, 475, 'rgb24')\n",
    "fig, ax = plt.subplots()\n",
    "im1 = ax.imshow(frame)"
   ]
  },
  {
   "cell_type": "code",
   "execution_count": null,
   "metadata": {},
   "outputs": [],
   "source": []
  }
 ],
 "metadata": {
  "kernelspec": {
   "display_name": "Python [conda root]",
   "language": "python",
   "name": "conda-root-py"
  },
  "language_info": {
   "codemirror_mode": {
    "name": "ipython",
    "version": 3
   },
   "file_extension": ".py",
   "mimetype": "text/x-python",
   "name": "python",
   "nbconvert_exporter": "python",
   "pygments_lexer": "ipython3",
   "version": "3.6.4"
  }
 },
 "nbformat": 4,
 "nbformat_minor": 2
}
