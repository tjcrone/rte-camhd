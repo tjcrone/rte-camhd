{
 "cells": [
  {
   "cell_type": "markdown",
   "metadata": {},
   "source": [
    "# OOI Data to Zarr in Azure Blob Example\n",
    "This is an example Python notebook showing how to move OOI data into Azure Blob using Xarray and the ABSStore data store in Zarr. Here we move one month of a velocity meter into a test blob storage account on Azure, set the container to public read-only access, and then annonymously load those data into Xarray from Azure. We show a plot of the velocity data."
   ]
  },
  {
   "cell_type": "markdown",
   "metadata": {},
   "source": [
    "## Request data from OOI using M2M\n",
    "Here we load our OOINet credentials and submit a request for data using the machine-to-machine (M2M) interface"
   ]
  },
  {
   "cell_type": "code",
   "execution_count": null,
   "metadata": {},
   "outputs": [],
   "source": [
    "# Load ooinet credentials\n",
    "import yaml\n",
    "with open('.ooinet_credentials.yaml', 'r') as f:\n",
    "    ooinet_credentials = yaml.load(f)"
   ]
  },
  {
   "cell_type": "code",
   "execution_count": null,
   "metadata": {},
   "outputs": [],
   "source": [
    "# build M2M request using instrument identifiers\n",
    "subsite = 'RS01SUM1'\n",
    "node = 'LJ01B'\n",
    "sensor = '12-VEL3DB104'\n",
    "method = 'streamed'\n",
    "stream = 'vel3d_b_sample' # 3-D velocity meter\n",
    "beginDT = '2015-01-01T00:00:00.000Z'\n",
    "endDT = '2015-01-02T00:00:00.000Z'\n",
    "\n",
    "base_url = 'https://ooinet.oceanobservatories.org/api/m2m/12576/sensor/inv/'\n",
    "data_request_url ='/'.join((base_url,subsite,node,sensor,method,stream))\n",
    "params = {'beginDT':beginDT, 'endDT':endDT}\n",
    "data_request_url"
   ]
  },
  {
   "cell_type": "code",
   "execution_count": null,
   "metadata": {},
   "outputs": [],
   "source": [
    "# submit request\n",
    "import requests\n",
    "r = requests.get(data_request_url, params=params, auth=(ooinet_credentials['username'], ooinet_credentials['token']))\n",
    "data = r.json()\n",
    "data['allURLs'][0]"
   ]
  },
  {
   "cell_type": "markdown",
   "metadata": {},
   "source": [
    "## Load data into an Xarray dataset\n",
    "Xarray can load the generated NetCDF file directly and lazily from the OpenDAP server. "
   ]
  },
  {
   "cell_type": "code",
   "execution_count": null,
   "metadata": {},
   "outputs": [],
   "source": [
    "netcdf_url = 'https://opendap.oceanobservatories.org/thredds/dodsC/ooi/crone@ldeo.columbia.edu/20190101T160240-RS01SUM1-LJ01B-12-VEL3DB104-streamed-vel3d_b_sample/deployment0001_RS01SUM1-LJ01B-12-VEL3DB104-streamed-vel3d_b_sample_20150101T000000-20150131T235814.nc'"
   ]
  },
  {
   "cell_type": "code",
   "execution_count": null,
   "metadata": {},
   "outputs": [],
   "source": [
    "import xarray as xr\n",
    "ds = xr.open_dataset(netcdf_url, drop_variables = ['id',\n",
    "                                                   'deployment',\n",
    "                                                   'date_time_string',\n",
    "                                                   'driver_timestamp',\n",
    "                                                   'ingestion_timestamp',\n",
    "                                                   'internal_timestamp',\n",
    "                                                   'mag_comp_x',\n",
    "                                                   'mag_comp_y',\n",
    "                                                   'pitch',\n",
    "                                                   'port_timestamp',\n",
    "                                                   'preferred_timestamp',\n",
    "                                                   'provenance',\n",
    "                                                   'roll',\n",
    "                                                   'temperature',\n",
    "                                                   'velocity_beam_a',\n",
    "                                                   'velocity_beam_b',\n",
    "                                                   'velocity_beam_c',\n",
    "                                                   'velocity_beam_d',\n",
    "                                                   'eastward_turbulent_velocity',\n",
    "                                                   'northward_turbulent_velocity',\n",
    "                                                   'upward_turbulent_velocity',\n",
    "                                                   'temperature_qc_executed',\n",
    "                                                   'temperature_qc_results',\n",
    "                                                   'turbulent_velocity_east_qc_executed',\n",
    "                                                   'turbulent_velocity_east_qc_results',\n",
    "                                                   'turbulent_velocity_north_qc_executed',\n",
    "                                                   'turbulent_velocity_north_qc_results',\n",
    "                                                   'turbulent_velocity_up_qc_executed',\n",
    "                                                   'turbulent_velocity_up_qc_results',\n",
    "                                                   'eastward_turbulent_velocity_qc_executed',\n",
    "                                                   'eastward_turbulent_velocity_qc_results',\n",
    "                                                   'northward_turbulent_velocity_qc_executed',\n",
    "                                                   'northward_turbulent_velocity_qc_results',\n",
    "                                                   'upward_turbulent_velocity_qc_executed',\n",
    "                                                   'upward_turbulent_velocity_qc_results'])\n",
    "ds = ds.swap_dims({'obs': 'time'})\n",
    "ds = ds.reset_coords(names = ['obs', 'lat', 'lon'], drop=True)\n",
    "ds"
   ]
  },
  {
   "cell_type": "markdown",
   "metadata": {},
   "source": [
    "## Save dataset to Azure blob using Zarr"
   ]
  },
  {
   "cell_type": "code",
   "execution_count": null,
   "metadata": {},
   "outputs": [],
   "source": [
    "# load Azure storage account credentials\n",
    "with open('.azure_credentials_ooitest.yaml', 'r') as f:\n",
    "    credentials = yaml.load(f)\n",
    "azure_storage_account_name = credentials['azure_storage_account_name']\n",
    "azure_storage_account_key = credentials['azure_storage_account_key']"
   ]
  },
  {
   "cell_type": "code",
   "execution_count": null,
   "metadata": {},
   "outputs": [],
   "source": [
    "# create a container for the velocity data\n",
    "from azure.storage.blob import BlockBlobService\n",
    "blob_service = BlockBlobService(azure_storage_account_name, azure_storage_account_key)\n",
    "container_name = 'velocity'\n",
    "blob_service.create_container(container_name);"
   ]
  },
  {
   "cell_type": "code",
   "execution_count": null,
   "metadata": {},
   "outputs": [],
   "source": [
    "# delete all blobs in container\n",
    "blobs = blob_service.list_blobs(container_name)\n",
    "for a in blobs:\n",
    "    blob_service.delete_blob(container_name = container_name, blob_name = a.name)"
   ]
  },
  {
   "cell_type": "code",
   "execution_count": null,
   "metadata": {},
   "outputs": [],
   "source": [
    "# create an absstore object for the to_zarr method\n",
    "import zarr\n",
    "filename = 'velocity.zarr'\n",
    "absstore = zarr.storage.ABSStore(container_name, filename, azure_storage_account_name, azure_storage_account_key)"
   ]
  },
  {
   "cell_type": "code",
   "execution_count": null,
   "metadata": {},
   "outputs": [],
   "source": [
    "# save the data to Azure\n",
    "ds.to_zarr(absstore);"
   ]
  },
  {
   "cell_type": "markdown",
   "metadata": {},
   "source": [
    "## Read data from Azure Blob using anonymous read-only access"
   ]
  },
  {
   "cell_type": "code",
   "execution_count": null,
   "metadata": {},
   "outputs": [],
   "source": [
    "import zarr\n",
    "container_name = 'velocity'\n",
    "filename = 'velocity.zarr'\n",
    "absstore_anon = zarr.storage.ABSStore(container_name, filename,  'ooitest')"
   ]
  },
  {
   "cell_type": "code",
   "execution_count": null,
   "metadata": {},
   "outputs": [],
   "source": [
    "import xarray as xr\n",
    "ds = xr.open_zarr(absstore_anon)\n",
    "#df = ds.to_dataframe();\n",
    "ds"
   ]
  },
  {
   "cell_type": "code",
   "execution_count": null,
   "metadata": {},
   "outputs": [],
   "source": [
    "df.head()"
   ]
  },
  {
   "cell_type": "code",
   "execution_count": null,
   "metadata": {},
   "outputs": [],
   "source": [
    "zarr.__version__"
   ]
  },
  {
   "cell_type": "code",
   "execution_count": null,
   "metadata": {},
   "outputs": [],
   "source": [
    "import hvplot.pandas\n",
    "import holoviews as hv\n",
    "hv.extension('bokeh')"
   ]
  },
  {
   "cell_type": "code",
   "execution_count": null,
   "metadata": {},
   "outputs": [],
   "source": [
    "#plot a subset of the data\n",
    "df.hvplot(datashade=True)"
   ]
  },
  {
   "cell_type": "code",
   "execution_count": null,
   "metadata": {},
   "outputs": [],
   "source": [
    "!conda list | grep azure"
   ]
  },
  {
   "cell_type": "code",
   "execution_count": null,
   "metadata": {},
   "outputs": [],
   "source": []
  }
 ],
 "metadata": {
  "kernelspec": {
   "display_name": "Python 3",
   "language": "python",
   "name": "python3"
  },
  "language_info": {
   "codemirror_mode": {
    "name": "ipython",
    "version": 3
   },
   "file_extension": ".py",
   "mimetype": "text/x-python",
   "name": "python",
   "nbconvert_exporter": "python",
   "pygments_lexer": "ipython3",
   "version": "3.6.7"
  }
 },
 "nbformat": 4,
 "nbformat_minor": 2
}
