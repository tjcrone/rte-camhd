{
 "cells": [
  {
   "cell_type": "markdown",
   "metadata": {},
   "source": [
    "# ProRes Frames to Azure Blob Example\n",
    "Here we write original ProRes compressed frames into a flat Azure blob store and show how to interact with these data using lazy operations."
   ]
  },
  {
   "cell_type": "markdown",
   "metadata": {},
   "source": [
    "#### Build a list of frames to transfer using the dbcamhd.json database"
   ]
  },
  {
   "cell_type": "code",
   "execution_count": null,
   "metadata": {},
   "outputs": [],
   "source": [
    "import numpy as np\n",
    "import pandas as pd\n",
    "import pycamhd as camhd\n",
    "dbcamhd = pd.read_json('dbcamhd.json', orient='records', lines=True)\n",
    "dbcamhd.tail()"
   ]
  },
  {
   "cell_type": "code",
   "execution_count": null,
   "metadata": {},
   "outputs": [],
   "source": [
    "fileindex = 2064\n",
    "filename = dbcamhd.filename[fileindex]\n",
    "timestamp = dbcamhd.timestamp[fileindex]\n",
    "frame_count = dbcamhd.frame_count[fileindex]\n",
    "n_images = 100\n",
    "frame_numbers = np.linspace(750,frame_count-6000, n_images, dtype=np.int64())\n",
    "#frame_numbers = np.arange(20000, frame_count)"
   ]
  },
  {
   "cell_type": "markdown",
   "metadata": {},
   "source": [
    "#### Create blob service"
   ]
  },
  {
   "cell_type": "code",
   "execution_count": null,
   "metadata": {},
   "outputs": [],
   "source": [
    "account_name = 'camhd'\n",
    "container_name = 'prores'\n",
    "with open('.camhd_account_key', 'r') as f:\n",
    "    account_key = f.read()\n",
    "from azure.storage.blob import BlockBlobService\n",
    "blob_service = BlockBlobService(account_name, account_key)"
   ]
  },
  {
   "cell_type": "markdown",
   "metadata": {},
   "source": [
    "#### ProRes to blob delayed functions"
   ]
  },
  {
   "cell_type": "code",
   "execution_count": null,
   "metadata": {},
   "outputs": [],
   "source": [
    "from dask import delayed, compute\n",
    "\n",
    "@delayed\n",
    "def delayed_get_frame_data(filename, frame_number, moov_atom):\n",
    "    return camhd.get_frame_data(filename, frame_number, moov_atom)\n",
    "\n",
    "@delayed\n",
    "def delayed_prores_to_blob(blob_service, container_name, blob_name, frame_data):\n",
    "    blob_service.create_blob_from_bytes(container_name, blob_name, frame_data)\n",
    "    return 0"
   ]
  },
  {
   "cell_type": "markdown",
   "metadata": {},
   "source": [
    "#### Set list of delayed functions"
   ]
  },
  {
   "cell_type": "code",
   "execution_count": null,
   "metadata": {},
   "outputs": [],
   "source": [
    "moov_atom = camhd.get_moov_atom(filename)\n",
    "delayed_transfer = []\n",
    "for frame_number in frame_numbers:\n",
    "    frame_data = delayed_get_frame_data(filename, frame_number, moov_atom)\n",
    "    blob_name = '%i-%08.0f' % (timestamp, frame_number)\n",
    "    delayed_transfer.append(delayed_prores_to_blob(blob_service, container_name, blob_name, frame_data))"
   ]
  },
  {
   "cell_type": "code",
   "execution_count": null,
   "metadata": {},
   "outputs": [],
   "source": [
    "delayed_transfer[0]"
   ]
  },
  {
   "cell_type": "markdown",
   "metadata": {},
   "source": [
    "#### Start a Dask cluster"
   ]
  },
  {
   "cell_type": "code",
   "execution_count": null,
   "metadata": {},
   "outputs": [],
   "source": [
    "from dask_kubernetes import KubeCluster\n",
    "cluster = KubeCluster(n_workers=70)\n",
    "cluster"
   ]
  },
  {
   "cell_type": "code",
   "execution_count": null,
   "metadata": {},
   "outputs": [],
   "source": [
    "from dask.distributed import Client\n",
    "client = Client(cluster)\n",
    "client"
   ]
  },
  {
   "cell_type": "markdown",
   "metadata": {},
   "source": [
    "#### Transfer frames"
   ]
  },
  {
   "cell_type": "code",
   "execution_count": null,
   "metadata": {},
   "outputs": [],
   "source": [
    "%%time\n",
    "codes = compute(*delayed_transfer)"
   ]
  },
  {
   "cell_type": "markdown",
   "metadata": {},
   "source": [
    "#### Count blobs in container"
   ]
  },
  {
   "cell_type": "code",
   "execution_count": null,
   "metadata": {},
   "outputs": [],
   "source": [
    "len(list(blob_service.list_blobs(container_name)))"
   ]
  },
  {
   "cell_type": "code",
   "execution_count": null,
   "metadata": {},
   "outputs": [],
   "source": [
    "frame_count"
   ]
  },
  {
   "cell_type": "markdown",
   "metadata": {},
   "source": [
    "#### Get list of frames not in container"
   ]
  },
  {
   "cell_type": "code",
   "execution_count": null,
   "metadata": {},
   "outputs": [],
   "source": [
    "frames_transferred = []\n",
    "for blob in blob_service.list_blobs(container_name):\n",
    "    frames_transferred.append(int(blob.name.split('-')[1]))"
   ]
  },
  {
   "cell_type": "code",
   "execution_count": null,
   "metadata": {},
   "outputs": [],
   "source": [
    "frames_needed = []\n",
    "for frame_number in range(frame_count):\n",
    "    if frame_number not in frames_transferred:\n",
    "        frames_needed.append(frame_number)"
   ]
  },
  {
   "cell_type": "code",
   "execution_count": null,
   "metadata": {},
   "outputs": [],
   "source": [
    "frame_numbers = frames_needed"
   ]
  },
  {
   "cell_type": "markdown",
   "metadata": {},
   "source": [
    "#### Delete all blobs in container"
   ]
  },
  {
   "cell_type": "code",
   "execution_count": null,
   "metadata": {},
   "outputs": [],
   "source": [
    "#for blob in blob_service.list_blobs(container_name):\n",
    "#    blob_service.delete_blob(container_name, blob.name)"
   ]
  }
 ],
 "metadata": {
  "kernelspec": {
   "display_name": "Python 3",
   "language": "python",
   "name": "python3"
  },
  "language_info": {
   "codemirror_mode": {
    "name": "ipython",
    "version": 3
   },
   "file_extension": ".py",
   "mimetype": "text/x-python",
   "name": "python",
   "nbconvert_exporter": "python",
   "pygments_lexer": "ipython3",
   "version": "3.6.6"
  }
 },
 "nbformat": 4,
 "nbformat_minor": 2
}
